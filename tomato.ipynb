{
  "cells": [
    {
      "cell_type": "markdown",
      "metadata": {
        "id": "view-in-github",
        "colab_type": "text"
      },
      "source": [
        "<a href=\"https://colab.research.google.com/github/hanmrf/MachineLearning/blob/main/tomato.ipynb\" target=\"_parent\"><img src=\"https://colab.research.google.com/assets/colab-badge.svg\" alt=\"Open In Colab\"/></a>"
      ]
    },
    {
      "cell_type": "markdown",
      "metadata": {
        "id": "HBu5N5E5tcem"
      },
      "source": [
        "# 1"
      ]
    },
    {
      "cell_type": "code",
      "execution_count": null,
      "metadata": {
        "id": "DWYRe7A8sX8j"
      },
      "outputs": [],
      "source": [
        "# Impor library yang dibutuhkan\n",
        "from IPython import get_ipython\n",
        "from IPython.display import display\n",
        "import os\n",
        "import matplotlib.pyplot as plt\n",
        "import matplotlib.image as mpimg\n",
        "import cv2\n",
        "import shutil\n",
        "from sklearn.model_selection import train_test_split\n",
        "import tensorflow as tf\n",
        "from tensorflow.keras.applications import MobileNet\n",
        "from tensorflow.keras.layers import Conv2D, MaxPooling2D, Flatten, Dense, Dropout\n",
        "from tensorflow.keras.callbacks import EarlyStopping, ModelCheckpoint\n",
        "from google.colab import files\n",
        "import numpy as np\n",
        "from tensorflow.keras.preprocessing import image\n",
        "from PIL import Image, ImageDraw, ImageOps # Impor Image dan ImageDraw dari PIL"
      ]
    },
    {
      "cell_type": "code",
      "execution_count": null,
      "metadata": {
        "id": "0IMUPtkwt2wQ"
      },
      "outputs": [],
      "source": [
        "!chmod 600 /content/kaggle.json"
      ]
    },
    {
      "cell_type": "code",
      "execution_count": null,
      "metadata": {
        "id": "JbpJXTMPuIQX"
      },
      "outputs": [],
      "source": [
        "! KAGGLE_CONFIG_DIR=/content/ kaggle datasets download muhammadraihanf12/agrocurify-tomato"
      ]
    },
    {
      "cell_type": "code",
      "execution_count": null,
      "metadata": {
        "id": "DvR3TyjovcmW"
      },
      "outputs": [],
      "source": [
        "import zipfile\n",
        "\n",
        "# Lokasi file ZIP\n",
        "zip_file_path = \"/content/agrocurify-tomato.zip\"\n",
        "extract_to_path = \"/content/\"\n",
        "\n",
        "# Mengekstrak file ZIP\n",
        "if os.path.exists(zip_file_path):\n",
        "    with zipfile.ZipFile(zip_file_path, 'r') as zip_ref:\n",
        "        zip_ref.extractall(extract_to_path)\n",
        "        print(\"File berhasil diekstrak ke direktori:\", extract_to_path)\n",
        "else:\n",
        "    print(\"File ZIP tidak ditemukan di lokasi:\", zip_file_path)"
      ]
    },
    {
      "cell_type": "code",
      "execution_count": null,
      "metadata": {
        "id": "g2Exa-aGvnco"
      },
      "outputs": [],
      "source": [
        "tomato_data = \"/content/tomat\"\n",
        "tomato_classes = os.listdir(tomato_data)\n",
        "\n",
        "print(\"tomato_classes:\")\n",
        "for classes in tomato_classes:\n",
        "    if os.path.isdir(os.path.join(tomato_data, classes)):\n",
        "        print(classes)"
      ]
    },
    {
      "cell_type": "code",
      "execution_count": null,
      "metadata": {
        "id": "C49QxBc18qFz"
      },
      "outputs": [],
      "source": [
        "for item in tomato_classes:\n",
        "    print(\"\\nClass Name:\", item)\n",
        "    class_dir = os.path.join(tomato_data, item)\n",
        "    class_images = os.listdir(class_dir)\n",
        "\n",
        "    # Total images in each class\n",
        "    num_images = len(class_images)\n",
        "    print(\"Total Images:\", num_images)\n",
        "\n",
        "    # Resolution/size of the first image in the class\n",
        "    img_path = os.path.join(class_dir, class_images[0])\n",
        "    img = mpimg.imread(img_path)\n",
        "    image_shape = img.shape\n",
        "    print(\"Resolution of First Image:\", image_shape)\n",
        "\n",
        "    # Displaying some images with descriptive labels\n",
        "    plt.figure(figsize=(15, 5))\n",
        "    plt.suptitle(f\"Class: {item} (Total: {num_images} Images)\", fontsize=16)\n",
        "\n",
        "    for i, img_file in enumerate(class_images[:5]):  # Display up to 5 images\n",
        "        img_path = os.path.join(class_dir, img_file)\n",
        "        img = mpimg.imread(img_path)\n",
        "\n",
        "        # Add a subplot for each image\n",
        "        sp = plt.subplot(1, 5, i + 1)\n",
        "        plt.axis('off')\n",
        "        plt.imshow(img)\n",
        "\n",
        "        # Add descriptive title to each image\n",
        "        plt.title(f\"Img {i+1}\\n{img.shape[0]}x{img.shape[1]} px\", fontsize=10)\n",
        "\n",
        "    plt.tight_layout()\n",
        "    plt.subplots_adjust(top=0.85)  # Adjust to fit the suptitle\n",
        "    plt.show()"
      ]
    },
    {
      "cell_type": "markdown",
      "metadata": {
        "id": "8xw3DtYA--dL"
      },
      "source": [
        "# Preprocesing Dataset"
      ]
    },
    {
      "cell_type": "code",
      "execution_count": null,
      "metadata": {
        "id": "XsUd3CfK_Fsm"
      },
      "outputs": [],
      "source": [
        "# New Directory for Resized Dataset\n",
        "resized_dir = \"/content/resized\"\n",
        "os.makedirs(resized_dir, exist_ok=True)\n",
        "\n",
        "# Pixel Normalization\n",
        "def normalize_image(image):\n",
        "    normalized_image = image.astype(np.float32) / 255.0\n",
        "    return normalized_image\n",
        "\n",
        "# Fungsi resize_with_aspect_ratio\n",
        "def resize_with_aspect_ratio(image, target_size):\n",
        "    image.thumbnail(target_size, Image.Resampling.LANCZOS)  # Ganti dengan Image.Resampling.LANCZOS\n",
        "\n",
        "    # Membuat gambar baru dengan ukuran target dan menempelkan gambar yang sudah diubah ukurannya\n",
        "    new_image = Image.new(\"RGB\", target_size, (255, 255, 255))\n",
        "    new_image.paste(image, ((target_size[0] - image.size[0]) // 2, (target_size[1] - image.size[1]) // 2))\n",
        "\n",
        "    return new_image\n",
        "\n",
        "    # Membuat gambar baru dengan ukuran target\n",
        "    new_image = Image.new(\"RGB\", target_size, (255, 255, 255))  # Gambar putih sebagai latar belakang\n",
        "    new_image.paste(image, ((target_size[0] - image.size[0]) // 2, (target_size[1] - image.size[1]) // 2))\n",
        "    return new_image\n",
        "\n",
        "for item in tomato_classes:\n",
        "    class_dir = os.path.join(tomato_data, item)\n",
        "    class_images = os.listdir(class_dir)\n",
        "\n",
        "    for img_path in class_images:\n",
        "        img = Image.open(os.path.join(class_dir, img_path))\n",
        "        resized_img = resize_with_aspect_ratio(img, (224, 224))\n",
        "        normalized_img = normalize_image(np.array(resized_img))\n",
        "\n",
        "        # Save Image to resized_dir\n",
        "        save_path = os.path.join(resized_dir, item, img_path)\n",
        "        os.makedirs(os.path.dirname(save_path), exist_ok=True)\n",
        "        Image.fromarray((normalized_img * 255).astype(np.uint8)).save(save_path)"
      ]
    },
    {
      "cell_type": "code",
      "execution_count": null,
      "metadata": {
        "id": "i3upe8kGCZTP"
      },
      "outputs": [],
      "source": [
        "# New Directory for Balanced Dataset\n",
        "balanced_dir = \"/content/balanced\"\n",
        "\n",
        "# Number of Images to Be Selected from Each Class\n",
        "num_images_per_class = min(len(os.listdir(resized_dir+\"/Tomato___Early_blight\")),\n",
        "                           len(os.listdir(resized_dir+\"/Tomato___Tomato_mosaic_virus\")),\n",
        "                           len(os.listdir(resized_dir+\"/Tomato___healthy\")),\n",
        "                           len(os.listdir(resized_dir+\"/Tomato___Spider_mites Two-spotted_spider_mite\")),\n",
        "                           len(os.listdir(resized_dir+\"/Tomato___Tomato_Yellow_Leaf_Curl_Virus\")),\n",
        "                           len(os.listdir(resized_dir+\"/Tomato___Septoria_leaf_spot\")),\n",
        "                           len(os.listdir(resized_dir+\"/Tomato___Bacterial_spot\")),\n",
        "                           len(os.listdir(resized_dir+\"/Tomato___Leaf_Mold\")),\n",
        "                           len(os.listdir(resized_dir+\"/Tomato___Target_Spot\")),\n",
        "                           len(os.listdir(resized_dir+\"/not_tomat\")))\n",
        "\n",
        "# Create New Directory in balanced_dir\n",
        "os.makedirs(balanced_dir+\"/Tomato___Early_blight\", exist_ok=True)\n",
        "os.makedirs(balanced_dir+\"/Tomato___Tomato_mosaic_virus\", exist_ok=True)\n",
        "os.makedirs(balanced_dir+\"/Tomato___healthy\", exist_ok=True)\n",
        "os.makedirs(balanced_dir+\"/Tomato___Spider_mites Two-spotted_spider_mite\", exist_ok=True)\n",
        "os.makedirs(balanced_dir+\"/Tomato___Tomato_Yellow_Leaf_Curl_Virus\", exist_ok=True)\n",
        "os.makedirs(balanced_dir+\"/Tomato___Septoria_leaf_spot\", exist_ok=True)\n",
        "os.makedirs(balanced_dir+\"/Tomato___Bacterial_spot\", exist_ok=True)\n",
        "os.makedirs(balanced_dir+\"/Tomato___Leaf_Mold\", exist_ok=True)\n",
        "os.makedirs(balanced_dir+\"/Tomato___Target_Spot\", exist_ok=True)\n",
        "os.makedirs(balanced_dir+\"/not_tomat\", exist_ok=True)\n",
        "\n",
        "# Select Some Images from Each Class and Copy to balanced_dir\n",
        "selected_images = os.listdir(resized_dir+\"/Tomato___Early_blight\")[:num_images_per_class]\n",
        "for image in selected_images:\n",
        "    shutil.copy(os.path.join(resized_dir+\"/Tomato___Early_blight\", image), balanced_dir+\"/Tomato___Early_blight\")\n",
        "\n",
        "selected_images = os.listdir(resized_dir+\"/Tomato___Tomato_mosaic_virus\")[:num_images_per_class]\n",
        "for image in selected_images:\n",
        "    shutil.copy(os.path.join(resized_dir+\"/Tomato___Tomato_mosaic_virus\", image), balanced_dir+\"/Tomato___Tomato_mosaic_virus\")\n",
        "\n",
        "selected_images = os.listdir(resized_dir+\"/Tomato___healthy\")[:num_images_per_class]\n",
        "for image in selected_images:\n",
        "    shutil.copy(os.path.join(resized_dir+\"/Tomato___healthy\", image), balanced_dir+\"/Tomato___healthy\")\n",
        "\n",
        "selected_images = os.listdir(resized_dir+\"/Tomato___Spider_mites Two-spotted_spider_mite\")[:num_images_per_class]\n",
        "for image in selected_images:\n",
        "    shutil.copy(os.path.join(resized_dir+\"/Tomato___Spider_mites Two-spotted_spider_mite\", image), balanced_dir+\"/Tomato___Spider_mites Two-spotted_spider_mite\")\n",
        "\n",
        "selected_images = os.listdir(resized_dir+\"/Tomato___Tomato_Yellow_Leaf_Curl_Virus\")[:num_images_per_class]\n",
        "for image in selected_images:\n",
        "    shutil.copy(os.path.join(resized_dir+\"/Tomato___Tomato_Yellow_Leaf_Curl_Virus\", image), balanced_dir+\"/Tomato___Tomato_Yellow_Leaf_Curl_Virus\")\n",
        "\n",
        "selected_images = os.listdir(resized_dir+\"/Tomato___Septoria_leaf_spot\")[:num_images_per_class]\n",
        "for image in selected_images:\n",
        "    shutil.copy(os.path.join(resized_dir+\"/Tomato___Septoria_leaf_spot\", image), balanced_dir+\"/Tomato___Septoria_leaf_spot\")\n",
        "\n",
        "selected_images = os.listdir(resized_dir+\"/Tomato___Bacterial_spot\")[:num_images_per_class]\n",
        "for image in selected_images:\n",
        "    shutil.copy(os.path.join(resized_dir+\"/Tomato___Bacterial_spot\", image), balanced_dir+\"/Tomato___Bacterial_spot\")\n",
        "\n",
        "selected_images = os.listdir(resized_dir+\"/Tomato___Leaf_Mold\")[:num_images_per_class]\n",
        "for image in selected_images:\n",
        "    shutil.copy(os.path.join(resized_dir+\"/Tomato___Leaf_Mold\", image), balanced_dir+\"/Tomato___Leaf_Mold\")\n",
        "\n",
        "selected_images = os.listdir(resized_dir+\"/Tomato___Target_Spot\")[:num_images_per_class]\n",
        "for image in selected_images:\n",
        "    shutil.copy(os.path.join(resized_dir+\"/Tomato___Target_Spot\", image), balanced_dir+\"/Tomato___Target_Spot\")\n",
        "\n",
        "selected_images = os.listdir(resized_dir+\"/not_tomat\")[:num_images_per_class]\n",
        "for image in selected_images:\n",
        "    shutil.copy(os.path.join(resized_dir+\"/not_tomat\", image), balanced_dir+\"/not_tomat\")"
      ]
    },
    {
      "cell_type": "code",
      "execution_count": null,
      "metadata": {
        "id": "rAe204EAtcz3"
      },
      "outputs": [],
      "source": [
        "# Preview Gambar dari Dataset yang Seimbang\n",
        "print(\"Preview Gambar dari Dataset yang Seimbang:\")\n",
        "\n",
        "for class_name in tomato_classes:\n",
        "    print(f\"\\nKelas: {class_name}\")\n",
        "\n",
        "    # Direktori kelas\n",
        "    class_dir = os.path.join(balanced_dir, class_name)\n",
        "\n",
        "    # Daftar gambar dalam kelas\n",
        "    class_images = os.listdir(class_dir)\n",
        "\n",
        "    # Total gambar dalam kelas\n",
        "    num_images = len(class_images)\n",
        "    print(f\"Total Gambar: {num_images}\")\n",
        "\n",
        "    # Menampilkan beberapa gambar dari kelas\n",
        "    plt.figure(figsize=(10, 5))\n",
        "    plt.suptitle(f\"Kelas: {class_name} (Total: {num_images} Gambar)\", fontsize=16)\n",
        "\n",
        "    for i, image_file in enumerate(class_images[:5]):  # Menampilkan hingga 5 gambar\n",
        "        image_path = os.path.join(class_dir, image_file)\n",
        "        image = mpimg.imread(image_path)\n",
        "\n",
        "        # Menambahkan subplot untuk setiap gambar\n",
        "        plt.subplot(1, 5, i + 1)\n",
        "        plt.axis('off')\n",
        "        plt.imshow(image)\n",
        "\n",
        "        # Menambahkan judul deskriptif ke setiap gambar\n",
        "        plt.title(f\"Gambar {i + 1}\\n{image.shape[0]}x{image.shape[1]} px\", fontsize=10)\n",
        "\n",
        "    plt.tight_layout()\n",
        "    plt.subplots_adjust(top=0.85)  # Menyesuaikan untuk judul utama\n",
        "    plt.show()"
      ]
    },
    {
      "cell_type": "markdown",
      "metadata": {
        "id": "HteMlGla-oKz"
      },
      "source": [
        "# MODELLING\n"
      ]
    },
    {
      "cell_type": "code",
      "execution_count": null,
      "metadata": {
        "id": "ClnZW_F0-2-n"
      },
      "outputs": [],
      "source": []
    }
  ],
  "metadata": {
    "accelerator": "GPU",
    "colab": {
      "gpuType": "T4",
      "provenance": [],
      "include_colab_link": true
    },
    "kernelspec": {
      "display_name": "Python 3",
      "name": "python3"
    },
    "language_info": {
      "name": "python"
    }
  },
  "nbformat": 4,
  "nbformat_minor": 0
}