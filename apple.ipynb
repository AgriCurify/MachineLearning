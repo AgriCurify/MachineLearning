{
  "cells": [
    {
      "cell_type": "markdown",
      "metadata": {
        "id": "view-in-github",
        "colab_type": "text"
      },
      "source": [
        "<a href=\"https://colab.research.google.com/github/hanmrf/MachineLearning/blob/main/apple.ipynb\" target=\"_parent\"><img src=\"https://colab.research.google.com/assets/colab-badge.svg\" alt=\"Open In Colab\"/></a>"
      ]
    },
    {
      "cell_type": "markdown",
      "metadata": {
        "id": "HBu5N5E5tcem"
      },
      "source": [
        "# 1"
      ]
    },
    {
      "cell_type": "code",
      "execution_count": null,
      "metadata": {
        "id": "DWYRe7A8sX8j"
      },
      "outputs": [],
      "source": [
        "# Impor library yang dibutuhkan\n",
        "from IPython import get_ipython\n",
        "from IPython.display import display\n",
        "import os\n",
        "import matplotlib.pyplot as plt\n",
        "import matplotlib.image as mpimg\n",
        "import cv2\n",
        "import shutil\n",
        "from sklearn.model_selection import train_test_split\n",
        "import tensorflow as tf\n",
        "from tensorflow.keras.applications import MobileNet\n",
        "from tensorflow.keras.layers import Conv2D, MaxPooling2D, Flatten, Dense, Dropout\n",
        "from tensorflow.keras.callbacks import EarlyStopping, ModelCheckpoint\n",
        "from google.colab import files\n",
        "import numpy as np\n",
        "from tensorflow.keras.preprocessing import image\n",
        "from PIL import Image, ImageDraw, ImageOps # Impor Image dan ImageDraw dari PIL"
      ]
    },
    {
      "cell_type": "code",
      "execution_count": null,
      "metadata": {
        "id": "0IMUPtkwt2wQ"
      },
      "outputs": [],
      "source": [
        "!chmod 600 /content/kaggle.json"
      ]
    },
    {
      "cell_type": "code",
      "execution_count": null,
      "metadata": {
        "colab": {
          "base_uri": "https://localhost:8080/"
        },
        "id": "JbpJXTMPuIQX",
        "outputId": "087a88c0-03a2-4530-e321-1da419f25980"
      },
      "outputs": [
        {
          "name": "stdout",
          "output_type": "stream",
          "text": [
            "Dataset URL: https://www.kaggle.com/datasets/muhammadraihanf12/agrocurify-apple\n",
            "License(s): unknown\n",
            "Downloading agrocurify-apple.zip to /content\n",
            " 98% 83.0M/84.3M [00:05<00:00, 22.5MB/s]\n",
            "100% 84.3M/84.3M [00:05<00:00, 17.1MB/s]\n"
          ]
        }
      ],
      "source": [
        "! KAGGLE_CONFIG_DIR=/content/ kaggle datasets download muhammadraihanf12/agrocurify-apple"
      ]
    },
    {
      "cell_type": "code",
      "execution_count": null,
      "metadata": {
        "colab": {
          "base_uri": "https://localhost:8080/"
        },
        "id": "DvR3TyjovcmW",
        "outputId": "1d0dfeee-8162-453f-8e84-4d9ed45183f8"
      },
      "outputs": [
        {
          "name": "stdout",
          "output_type": "stream",
          "text": [
            "File berhasil diekstrak ke direktori: /content/\n"
          ]
        }
      ],
      "source": [
        "import zipfile\n",
        "\n",
        "# Lokasi file ZIP\n",
        "zip_file_path = \"/content/agrocurify-apple.zip\"\n",
        "extract_to_path = \"/content/\"\n",
        "\n",
        "# Mengekstrak file ZIP\n",
        "if os.path.exists(zip_file_path):\n",
        "    with zipfile.ZipFile(zip_file_path, 'r') as zip_ref:\n",
        "        zip_ref.extractall(extract_to_path)\n",
        "        print(\"File berhasil diekstrak ke direktori:\", extract_to_path)\n",
        "else:\n",
        "    print(\"File ZIP tidak ditemukan di lokasi:\", zip_file_path)"
      ]
    },
    {
      "cell_type": "code",
      "execution_count": null,
      "metadata": {
        "colab": {
          "base_uri": "https://localhost:8080/"
        },
        "id": "g2Exa-aGvnco",
        "outputId": "7531bd2d-0e76-42e7-8d3f-7093d3b00635"
      },
      "outputs": [
        {
          "name": "stdout",
          "output_type": "stream",
          "text": [
            "apple_classes:\n",
            "Not___apple\n",
            "Apple___Apple_scab\n",
            "Apple___Cedar_apple_rust\n",
            "Apple___Black_rot\n",
            "Apple___healthy\n"
          ]
        }
      ],
      "source": [
        "apple_data = \"/content/apple\"\n",
        "apple_classes = os.listdir(apple_data)\n",
        "\n",
        "print(\"apple_classes:\")\n",
        "for classes in apple_classes:\n",
        "    if os.path.isdir(os.path.join(apple_data, classes)):\n",
        "        print(classes)"
      ]
    },
    {
      "cell_type": "code",
      "execution_count": null,
      "metadata": {
        "colab": {
          "background_save": true
        },
        "id": "C49QxBc18qFz"
      },
      "outputs": [],
      "source": [
        "for item in apple_classes:\n",
        "    print(\"\\nClass Name:\", item)\n",
        "    class_dir = os.path.join(apple_data, item)\n",
        "    class_images = os.listdir(class_dir)\n",
        "\n",
        "    # Total images in each class\n",
        "    num_images = len(class_images)\n",
        "    print(\"Total Images:\", num_images)\n",
        "\n",
        "    # Resolution/size of the first image in the class\n",
        "    img_path = os.path.join(class_dir, class_images[0])\n",
        "    img = mpimg.imread(img_path)\n",
        "    image_shape = img.shape\n",
        "    print(\"Resolution of First Image:\", image_shape)\n",
        "\n",
        "    # Displaying some images with descriptive labels\n",
        "    plt.figure(figsize=(15, 5))\n",
        "    plt.suptitle(f\"Class: {item} (Total: {num_images} Images)\", fontsize=16)\n",
        "\n",
        "    for i, img_file in enumerate(class_images[:5]):  # Display up to 5 images\n",
        "        img_path = os.path.join(class_dir, img_file)\n",
        "        img = mpimg.imread(img_path)\n",
        "\n",
        "        # Add a subplot for each image\n",
        "        sp = plt.subplot(1, 5, i + 1)\n",
        "        plt.axis('off')\n",
        "        plt.imshow(img)\n",
        "\n",
        "        # Add descriptive title to each image\n",
        "        plt.title(f\"Img {i+1}\\n{img.shape[0]}x{img.shape[1]} px\", fontsize=10)\n",
        "\n",
        "    plt.tight_layout()\n",
        "    plt.subplots_adjust(top=0.85)  # Adjust to fit the suptitle\n",
        "    plt.show()"
      ]
    },
    {
      "cell_type": "markdown",
      "metadata": {
        "id": "8xw3DtYA--dL"
      },
      "source": [
        "# Preprocesing Dataset"
      ]
    },
    {
      "cell_type": "code",
      "execution_count": null,
      "metadata": {
        "id": "XsUd3CfK_Fsm"
      },
      "outputs": [],
      "source": [
        "# New Directory for Resized Dataset\n",
        "resized_dir = \"/content/resized\"\n",
        "os.makedirs(resized_dir, exist_ok=True)\n",
        "\n",
        "# Pixel Normalization\n",
        "def normalize_image(image):\n",
        "    normalized_image = image.astype(np.float32) / 255.0\n",
        "    return normalized_image\n",
        "\n",
        "# Fungsi resize_with_aspect_ratio\n",
        "def resize_with_aspect_ratio(image, target_size):\n",
        "    image.thumbnail(target_size, Image.Resampling.LANCZOS)  # Ganti dengan Image.Resampling.LANCZOS\n",
        "\n",
        "    # Membuat gambar baru dengan ukuran target dan menempelkan gambar yang sudah diubah ukurannya\n",
        "    new_image = Image.new(\"RGB\", target_size, (255, 255, 255))\n",
        "    new_image.paste(image, ((target_size[0] - image.size[0]) // 2, (target_size[1] - image.size[1]) // 2))\n",
        "\n",
        "    return new_image\n",
        "\n",
        "    # Membuat gambar baru dengan ukuran target\n",
        "    new_image = Image.new(\"RGB\", target_size, (255, 255, 255))  # Gambar putih sebagai latar belakang\n",
        "    new_image.paste(image, ((target_size[0] - image.size[0]) // 2, (target_size[1] - image.size[1]) // 2))\n",
        "    return new_image\n",
        "\n",
        "for item in apple_classes:\n",
        "    class_dir = os.path.join(apple_data, item)\n",
        "    class_images = os.listdir(class_dir)\n",
        "\n",
        "    for img_path in class_images:\n",
        "        img = Image.open(os.path.join(class_dir, img_path))\n",
        "        resized_img = resize_with_aspect_ratio(img, (224, 224))\n",
        "        normalized_img = normalize_image(np.array(resized_img))\n",
        "\n",
        "        # Save Image to resized_dir\n",
        "        save_path = os.path.join(resized_dir, item, img_path)\n",
        "        os.makedirs(os.path.dirname(save_path), exist_ok=True)\n",
        "        Image.fromarray((normalized_img * 255).astype(np.uint8)).save(save_path)"
      ]
    },
    {
      "cell_type": "code",
      "execution_count": null,
      "metadata": {
        "id": "i3upe8kGCZTP"
      },
      "outputs": [],
      "source": [
        "# New Directory for Balanced Dataset\n",
        "balanced_dir = \"/content/balanced\"\n",
        "\n",
        "# Number of Images to Be Selected from Each Class\n",
        "num_images_per_class = min(len(os.listdir(resized_dir+\"/Apple___Apple_scab\")),\n",
        "                           len(os.listdir(resized_dir+\"/Apple___Black_rot\")),\n",
        "                           len(os.listdir(resized_dir+\"/Apple___Cedar_apple_rust\")),\n",
        "                           len(os.listdir(resized_dir+\"/Apple___healthy\")),\n",
        "                           len(os.listdir(resized_dir+\"/Not___apple\")))\n",
        "\n",
        "# Create New Directory in balanced_dir\n",
        "os.makedirs(balanced_dir+\"/Apple___Apple_scab\", exist_ok=True)\n",
        "os.makedirs(balanced_dir+\"/Apple___Black_rot\", exist_ok=True)\n",
        "os.makedirs(balanced_dir+\"/Apple___Cedar_apple_rust\", exist_ok=True)\n",
        "os.makedirs(balanced_dir+\"/Apple___healthy\", exist_ok=True)\n",
        "os.makedirs(balanced_dir+\"/Not___apple\", exist_ok=True)\n",
        "\n",
        "# Select Some Images from Each Class and Copy to balanced_dir\n",
        "selected_images = os.listdir(resized_dir+\"/Apple___Apple_scab\")[:num_images_per_class]\n",
        "for image in selected_images:\n",
        "    shutil.copy(os.path.join(resized_dir+\"/Apple___Apple_scab\", image), balanced_dir+\"/Apple___Apple_scab\")\n",
        "\n",
        "selected_images = os.listdir(resized_dir+\"/Apple___Black_rot\")[:num_images_per_class]\n",
        "for image in selected_images:\n",
        "    shutil.copy(os.path.join(resized_dir+\"/Apple___Black_rot\", image), balanced_dir+\"/Apple___Black_rot\")\n",
        "\n",
        "selected_images = os.listdir(resized_dir+\"/Apple___Cedar_apple_rust\")[:num_images_per_class]\n",
        "for image in selected_images:\n",
        "    shutil.copy(os.path.join(resized_dir+\"/Apple___Cedar_apple_rust\", image), balanced_dir+\"/Apple___Cedar_apple_rust\")\n",
        "\n",
        "selected_images = os.listdir(resized_dir+\"/Apple___healthy\")[:num_images_per_class]\n",
        "for image in selected_images:\n",
        "    shutil.copy(os.path.join(resized_dir+\"/Apple___healthy\", image), balanced_dir+\"/Apple___healthy\")\n",
        "\n",
        "selected_images = os.listdir(resized_dir+\"/Not___apple\")[:num_images_per_class]\n",
        "for image in selected_images:\n",
        "    shutil.copy(os.path.join(resized_dir+\"/Not___apple\", image), balanced_dir+\"/Not___apple\")"
      ]
    },
    {
      "cell_type": "code",
      "execution_count": null,
      "metadata": {
        "id": "rAe204EAtcz3"
      },
      "outputs": [],
      "source": [
        "# Preview Gambar dari Dataset yang Seimbang\n",
        "print(\"Preview Gambar dari Dataset yang Seimbang:\")\n",
        "\n",
        "for class_name in apple_classes:\n",
        "    print(f\"\\nKelas: {class_name}\")\n",
        "\n",
        "    # Direktori kelas\n",
        "    class_dir = os.path.join(balanced_dir, class_name)\n",
        "\n",
        "    # Daftar gambar dalam kelas\n",
        "    class_images = os.listdir(class_dir)\n",
        "\n",
        "    # Total gambar dalam kelas\n",
        "    num_images = len(class_images)\n",
        "    print(f\"Total Gambar: {num_images}\")\n",
        "\n",
        "    # Menampilkan beberapa gambar dari kelas\n",
        "    plt.figure(figsize=(10, 5))\n",
        "    plt.suptitle(f\"Kelas: {class_name} (Total: {num_images} Gambar)\", fontsize=16)\n",
        "\n",
        "    for i, image_file in enumerate(class_images[:5]):  # Menampilkan hingga 5 gambar\n",
        "        image_path = os.path.join(class_dir, image_file)\n",
        "        image = mpimg.imread(image_path)\n",
        "\n",
        "        # Menambahkan subplot untuk setiap gambar\n",
        "        plt.subplot(1, 5, i + 1)\n",
        "        plt.axis('off')\n",
        "        plt.imshow(image)\n",
        "\n",
        "        # Menambahkan judul deskriptif ke setiap gambar\n",
        "        plt.title(f\"Gambar {i + 1}\\n{image.shape[0]}x{image.shape[1]} px\", fontsize=10)\n",
        "\n",
        "    plt.tight_layout()\n",
        "    plt.subplots_adjust(top=0.85)  # Menyesuaikan untuk judul utama\n",
        "    plt.show()"
      ]
    },
    {
      "cell_type": "markdown",
      "metadata": {
        "id": "HteMlGla-oKz"
      },
      "source": [
        "# MODELLING\n"
      ]
    },
    {
      "cell_type": "code",
      "execution_count": null,
      "metadata": {
        "colab": {
          "background_save": true
        },
        "id": "ClnZW_F0-2-n",
        "outputId": "46abcb05-94fb-4e72-915a-cf8900cc8c8a"
      },
      "outputs": [
        {
          "ename": "AttributeError",
          "evalue": "'numpy.ndarray' object has no attribute 'load_img'",
          "output_type": "error",
          "traceback": [
            "\u001b[0;31m---------------------------------------------------------------------------\u001b[0m",
            "\u001b[0;31mAttributeError\u001b[0m                            Traceback (most recent call last)",
            "\u001b[0;32m<ipython-input-21-1af71de4f6ea>\u001b[0m in \u001b[0;36m<cell line: 5>\u001b[0;34m()\u001b[0m\n\u001b[1;32m      3\u001b[0m \u001b[0;34m\u001b[0m\u001b[0m\n\u001b[1;32m      4\u001b[0m \u001b[0;31m# Load image from file path\u001b[0m\u001b[0;34m\u001b[0m\u001b[0;34m\u001b[0m\u001b[0m\n\u001b[0;32m----> 5\u001b[0;31m \u001b[0mimg\u001b[0m \u001b[0;34m=\u001b[0m \u001b[0mimage\u001b[0m\u001b[0;34m.\u001b[0m\u001b[0mload_img\u001b[0m\u001b[0;34m(\u001b[0m\u001b[0mimg_path\u001b[0m\u001b[0;34m,\u001b[0m \u001b[0mtarget_size\u001b[0m\u001b[0;34m=\u001b[0m\u001b[0;34m(\u001b[0m\u001b[0;36m224\u001b[0m\u001b[0;34m,\u001b[0m \u001b[0;36m224\u001b[0m\u001b[0;34m)\u001b[0m\u001b[0;34m)\u001b[0m\u001b[0;34m\u001b[0m\u001b[0;34m\u001b[0m\u001b[0m\n\u001b[0m\u001b[1;32m      6\u001b[0m \u001b[0;34m\u001b[0m\u001b[0m\n\u001b[1;32m      7\u001b[0m \u001b[0;31m# Convert PIL Image to NumPy array\u001b[0m\u001b[0;34m\u001b[0m\u001b[0;34m\u001b[0m\u001b[0m\n",
            "\u001b[0;31mAttributeError\u001b[0m: 'numpy.ndarray' object has no attribute 'load_img'"
          ]
        }
      ],
      "source": [
        "img_path = os.path.join(class_dir, img_file)\n",
        "\n",
        "\n",
        "# Load image from file path\n",
        "img = image.load_img(img_path, target_size=(224, 224))\n",
        "\n",
        "# Convert PIL Image to NumPy array\n",
        "img_array = image.img_to_array(img)\n",
        "\n",
        "# Append the NumPy array to the list\n",
        "train_images.append(img_array)\n",
        "\n",
        "# Membagi dataset menjadi data latih dan data uji\n",
        "train_dir = balanced_dir\n",
        "train_images = []\n",
        "train_labels = []\n",
        "\n",
        "# Mengambil gambar dan label dari direktori\n",
        "for class_name in apple_classes:\n",
        "    class_dir = os.path.join(train_dir, class_name)\n",
        "    class_images = os.listdir(class_dir)\n",
        "\n",
        "    for img_file in class_images:\n",
        "        img_path = os.path.join(class_dir, img_file)\n",
        "        img = image.load_img(img_path, target_size=(224, 224))  # Mengubah ukuran gambar\n",
        "        img_array = image.img_to_array(img)  # Mengubah gambar menjadi array\n",
        "        train_images.append(img_array)\n",
        "        train_labels.append(class_name)\n",
        "\n",
        "# Mengonversi daftar menjadi array NumPy\n",
        "train_images = np.array(train_images)\n",
        "train_labels = np.array(train_labels)\n",
        "\n",
        "# Mengonversi label menjadi angka\n",
        "from sklearn.preprocessing import LabelEncoder\n",
        "label_encoder = LabelEncoder()\n",
        "train_labels_encoded = label_encoder.fit_transform(train_labels)\n",
        "\n",
        "# Membagi data menjadi set latih dan set validasi\n",
        "X_train, X_val, y_train, y_val = train_test_split(train_images, train_labels_encoded, test_size=0.2, random_state=42)\n",
        "\n",
        "# Normalisasi data\n",
        "X_train = X_train.astype('float32') / 255.0\n",
        "X_val = X_val.astype('float32') / 255.0\n",
        "\n",
        "# Membuat model menggunakan MobileNetV2\n",
        "base_model = MobileNet(weights='imagenet', include_top=False, input_shape=(224, 224, 3))\n",
        "\n",
        "# Menambahkan lapisan klasifikasi di atas model dasar\n",
        "model = tf.keras.Sequential([\n",
        "    base_model,\n",
        "    tf.keras.layers.GlobalAveragePooling2D(),\n",
        "    tf.keras.layers.Dense(128, activation='relu'),\n",
        "    tf.keras.layers.Dropout(0.5),\n",
        "    tf.keras.layers.Dense(len(apple_classes), activation='softmax')  # Jumlah kelas\n",
        "])\n",
        "\n",
        "# Mengompilasi model\n",
        "model.compile(optimizer='adam',\n",
        "              loss='sparse_categorical_crossentropy',\n",
        "              metrics=['accuracy'])\n",
        "\n",
        "# Menyiapkan callback untuk menghentikan pelatihan lebih awal\n",
        "early_stopping = EarlyStopping(monitor='val_loss', patience=5, restore_best_weights=True)\n",
        "\n",
        "# Melatih model\n",
        "history = model.fit(X_train, y_train,\n",
        "                    validation_data=(X_val, y_val),\n",
        "                    epochs=20,\n",
        "                    batch_size=32,\n",
        "                    callbacks=[early_stopping])\n",
        "\n",
        "# Menyimpan model\n",
        "model.save('/content/apple_classification_model.h5')\n",
        "\n",
        "# Menampilkan akurasi pelatihan dan validasi\n",
        "plt.plot(history.history['accuracy'], label='Akurasi Latih')\n",
        "plt.plot(history.history['val_accuracy'], label='Akurasi Validasi')\n",
        "plt.title('Akurasi Model')\n",
        "plt.xlabel('Epoch')\n",
        "plt.ylabel('Akurasi')\n",
        "plt.legend()\n",
        "plt.show()"
      ]
    }
  ],
  "metadata": {
    "accelerator": "GPU",
    "colab": {
      "collapsed_sections": [
        "8xw3DtYA--dL"
      ],
      "gpuType": "T4",
      "provenance": [],
      "include_colab_link": true
    },
    "kernelspec": {
      "display_name": "Python 3",
      "name": "python3"
    },
    "language_info": {
      "name": "python"
    }
  },
  "nbformat": 4,
  "nbformat_minor": 0
}